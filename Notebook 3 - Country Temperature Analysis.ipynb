{
 "cells": [
  {
   "cell_type": "markdown",
   "id": "976ae6d9-340e-47c1-9403-d5a7cef3b31c",
   "metadata": {},
   "source": [
    "## Importing Libraries"
   ]
  },
  {
   "cell_type": "code",
   "execution_count": 1,
   "id": "0dc57391-0277-4f8b-87e1-94dfe1360d82",
   "metadata": {},
   "outputs": [],
   "source": [
    "import pandas as pd\n",
    "import numpy as np\n",
    "import seaborn as sns\n",
    "import matplotlib.pyplot as plt\n",
    "import pycountry \n",
    "\n",
    "# Plotly\n",
    "import plotly.express as px\n",
    "import pandas as pd\n",
    "import plotly.graph_objects as go\n",
    "import plotly.io as pio"
   ]
  },
  {
   "cell_type": "markdown",
   "id": "3fdac7a8-f40b-4b18-b20b-f4f6ae33b8a5",
   "metadata": {},
   "source": [
    "## Importing data"
   ]
  },
  {
   "cell_type": "code",
   "execution_count": null,
   "id": "e0074f90-2ded-4ec6-85d5-d105afa8293b",
   "metadata": {},
   "outputs": [],
   "source": [
    "data = pd.read_csv(\"data/GlobalLandTemperaturesByCountry.csv\")\n",
    "print(\"Size Before dropping NA values:\", data.shape)\n",
    "print(data.columns)"
   ]
  },
  {
   "cell_type": "markdown",
   "id": "1422d166-fdbc-4520-a938-a19e7e28d73a",
   "metadata": {},
   "source": [
    "## Finding and Dropping NA Values"
   ]
  },
  {
   "cell_type": "code",
   "execution_count": null,
   "id": "e763a55b-a0b6-45de-96a6-bc0c18be93e6",
   "metadata": {},
   "outputs": [],
   "source": [
    "print(data.isna().sum())\n",
    "data.dropna(axis = 0, inplace = True)\n",
    "copy = data.copy()\n",
    "print(\"Size after dropping NA values:\", data.shape)"
   ]
  },
  {
   "cell_type": "markdown",
   "id": "e5c1b312-fc9e-43e8-8b2a-888e78eed011",
   "metadata": {},
   "source": [
    "## Formatting dates\n",
    "rename columns and group data by year"
   ]
  },
  {
   "cell_type": "code",
   "execution_count": null,
   "id": "cc011df0-c0d2-4529-b217-29286dfd6716",
   "metadata": {},
   "outputs": [],
   "source": [
    "# Updating data\n",
    "data['Date'] = pd.to_datetime(data.dt)\n",
    "data['Day'] = data['Date'].dt.day\n",
    "data['Month'] = data['Date'].dt.month\n",
    "data['Year'] = data['Date'].dt.year\n",
    "data.drop(columns = ['dt'], axis = 1, inplace = True) \n",
    "\n",
    "# Updating  columns names\n",
    "data.columns = [\n",
    "    'Average Temperature', 'Average Temperature Uncertainty',\n",
    "    'Country', \n",
    "    'Date', 'Day', 'Month','Year'\n",
    "]\n",
    "\n",
    "data.head()"
   ]
  },
  {
   "cell_type": "code",
   "execution_count": null,
   "id": "06cc2a6b-3fb3-4baa-8e01-68b8d7669714",
   "metadata": {},
   "outputs": [],
   "source": [
    "# Group by year and calculate yearly uncertainty\n",
    "def aggregate_by_year(df):\n",
    "    grouped = df.groupby('Year').agg(\n",
    "        Average_Temperature=('Average Temperature', 'mean'),\n",
    "        Monthly_Data_Count=('Average Temperature', 'count'),\n",
    "        Average_Uncertainty=('Average Temperature Uncertainty', lambda x: (x**2).sum()**0.5 / len(x))\n",
    "    )\n",
    "    return grouped\n",
    "\n",
    "# Apply the aggregate function\n",
    "earth_data = aggregate_by_year(data)\n",
    "if earth_data[earth_data['Monthly_Data_Count']!=12].shape[0]!=0:\n",
    "    earth_data[earth_data['Monthly_Data_Count']==12]\n",
    "\n",
    "# Drop column 'month_data_count'\n",
    "earth_data.drop('Monthly_Data_Count', axis=1, inplace=True)\n",
    "\n",
    "# Grouping data\n",
    "earth_data = data.groupby(by = ['Year', 'Country'])[[\n",
    "    'Average Temperature',\n",
    "    'Average Temperature Uncertainty',\n",
    "    ]].mean().reset_index()\n",
    "earth_data.head()\n",
    "earth_data[['Average Temperature','Average Temperature Uncertainty']].describe().T"
   ]
  },
  {
   "cell_type": "markdown",
   "id": "b2e2f885-1fb3-47a2-9c97-c988f1bc75e5",
   "metadata": {},
   "source": [
    "## Visualize temperature changes through maps and animations"
   ]
  },
  {
   "cell_type": "code",
   "execution_count": null,
   "id": "b48a9047-fec0-41df-b1a2-3f6061e92a42",
   "metadata": {},
   "outputs": [],
   "source": [
    "def country_to_iso3(country_name):\n",
    "    try:\n",
    "        return pycountry.countries.lookup(country_name).alpha_3\n",
    "    except LookupError:\n",
    "        return None  # Handle missing cases\n",
    "\n",
    "# Display the yearly average temperature by decades.\n",
    "earth_data = earth_data[earth_data['Year'] % 10 == 0]\n",
    "earth_data.reset_index(drop=True, inplace=True)\n",
    "\n",
    "earth_data['Country_ISO3'] = earth_data['Country'].apply(country_to_iso3)\n",
    "\n",
    "# Creates a choropleth figure object\n",
    "fig = px.choropleth(\n",
    "    earth_data,\n",
    "    locations='Country_ISO3',              # 'Country' Column in the data contains the location identifiers.\n",
    "    locationmode='ISO-3',     # Indicates full country names (e.g., \"United States,\" \"Belgium\"). Other options are ISO codes or FIPS codes.\n",
    "    color='Average Temperature',      # 'Average Temperature' column to be used for coloring the map/\n",
    "    hover_name='Country',             # Info shows when hovering over.\n",
    "    animation_frame='Year',           # Adds an animation slider based on the 'Year' column (the unit is ten years).\n",
    "    title='Average Land Temperature in Countries',\n",
    "    labels={'Average Temperature': 'Avg Temp (°C)'}\n",
    ")\n",
    "\n",
    "# Adjust the layout\n",
    "fig.update_layout(\n",
    "    width=1000,\n",
    "    height=800,\n",
    "    coloraxis=dict(\n",
    "        colorscale='rdbu_r',\n",
    "        colorbar=dict(\n",
    "            title=\"Avg Temp (°C)\",\n",
    "            tickvals=[-10, 0, -5, 5, 10, 15, 20, 25, 30, 35, 40],\n",
    "            ticktext=['-10', '-5', '0', '5', '10', '15', '20', '25','30', '35', '40']\n",
    "        )\n",
    "    ),\n",
    "    title_font_size=28,\n",
    "    title_x=0.5,\n",
    "    geo=dict(\n",
    "        showcoastlines=True,\n",
    "        coastlinecolor=\"Black\",\n",
    "        projection_type=\"natural earth\", # \"orthographic\"\n",
    "        landcolor=\"white\",\n",
    "        subunitcolor=\"gray\"\n",
    "    ),\n",
    ")\n",
    "\n",
    "pio.write_image(fig, \"images/choropleth_map.png\", scale=2)  # Requires kaleido\n",
    "fig.write_html(\"charts/choropleth_map.html\")"
   ]
  },
  {
   "cell_type": "markdown",
   "id": "4983c526-c746-4ea0-b486-7f65b178eccd",
   "metadata": {},
   "source": [
    "![Choropleth Map](images/choropleth_map.png)  \n",
    "[View Interactive Choropleth](charts/choropleth_map.html)"
   ]
  },
  {
   "cell_type": "code",
   "execution_count": null,
   "id": "03d20a2d-2fc3-44e4-9fb1-5298fa64fd47",
   "metadata": {},
   "outputs": [],
   "source": [
    "def country_to_iso3(country_name):\n",
    "    try:\n",
    "        return pycountry.countries.lookup(country_name).alpha_3\n",
    "    except LookupError:\n",
    "        return None\n",
    "\n",
    "# Calculate the temperature standard deviation by country for years after 1975.\n",
    "earth_data_std = data[data['Year'] >= 1975].groupby(by=['Country'])[['Average Temperature']].std().reset_index()\n",
    "earth_data_std = earth_data_std.rename(columns={'Average Temperature': 'Temperature STD'})\n",
    "earth_data_std = earth_data_std.dropna(subset=['Temperature STD'])\n",
    "\n",
    "earth_data_std['ISO3'] = earth_data_std['Country'].apply(country_to_iso3)\n",
    "\n",
    "# Display the global temperature standard deviation by country\n",
    "fig = px.scatter_geo(\n",
    "    earth_data_std,\n",
    "    locations=\"ISO3\",\n",
    "    locationmode=\"ISO-3\",\n",
    "    color=\"Temperature STD\",\n",
    "    size=earth_data_std[\"Temperature STD\"].abs(),\n",
    "    hover_name=\"Country\",\n",
    "    projection=\"natural earth\",\n",
    "    title=\"Global Temperatures Standard Deviation by Country\",\n",
    "    size_max=40\n",
    ")\n",
    "\n",
    "fig.update_layout(\n",
    "    coloraxis_colorbar=dict(\n",
    "        title=\"Std Temp (°C)\"\n",
    "    ),\n",
    "    legend_title=dict(\n",
    "        text=\"Standard Deviation Temperature Scale\"\n",
    "    ),\n",
    "    width=1000,\n",
    "    height=800\n",
    ")\n",
    "\n",
    "pio.write_image(fig, \"images/temp_std_dev_map.png\", scale=2)\n",
    "fig.write_html(\"charts/temp_std_dev_map.html\")"
   ]
  },
  {
   "cell_type": "markdown",
   "id": "fd8b44e2-2ad3-4428-a072-fecf8d38740f",
   "metadata": {},
   "source": [
    "![Temperature Standard Deviation](images/temp_std_dev_map.png)  \n",
    "[View Interactive Std Temp Map](charts/temp_std_dev_map.html)"
   ]
  }
 ],
 "metadata": {
  "kernelspec": {
   "display_name": "Python [conda env:base] *",
   "language": "python",
   "name": "conda-base-py"
  },
  "language_info": {
   "codemirror_mode": {
    "name": "ipython",
    "version": 3
   },
   "file_extension": ".py",
   "mimetype": "text/x-python",
   "name": "python",
   "nbconvert_exporter": "python",
   "pygments_lexer": "ipython3",
   "version": "3.13.5"
  }
 },
 "nbformat": 4,
 "nbformat_minor": 5
}
