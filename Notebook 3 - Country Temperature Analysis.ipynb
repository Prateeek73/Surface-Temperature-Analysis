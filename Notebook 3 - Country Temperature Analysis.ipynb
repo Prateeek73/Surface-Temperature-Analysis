{
 "cells": [
  {
   "cell_type": "markdown",
   "id": "976ae6d9-340e-47c1-9403-d5a7cef3b31c",
   "metadata": {},
   "source": [
    "## Importing Libraries"
   ]
  },
  {
   "cell_type": "code",
   "execution_count": 1,
   "id": "0dc57391-0277-4f8b-87e1-94dfe1360d82",
   "metadata": {},
   "outputs": [],
   "source": [
    "import pandas as pd\n",
    "import numpy as np\n",
    "import seaborn as sns\n",
    "import matplotlib.pyplot as plt\n",
    "import pycountry \n",
    "\n",
    "# Plotly\n",
    "import plotly.express as px\n",
    "import pandas as pd\n",
    "import plotly.graph_objects as go\n",
    "import plotly.io as pio\n",
    "from IPython.display import display, HTML"
   ]
  },
  {
   "cell_type": "markdown",
   "id": "3fdac7a8-f40b-4b18-b20b-f4f6ae33b8a5",
   "metadata": {},
   "source": [
    "## Importing data"
   ]
  },
  {
   "cell_type": "code",
   "execution_count": 2,
   "id": "e0074f90-2ded-4ec6-85d5-d105afa8293b",
   "metadata": {},
   "outputs": [
    {
     "name": "stdout",
     "output_type": "stream",
     "text": [
      "Size Before dropping NA values: (577462, 4)\n",
      "Index(['dt', 'AverageTemperature', 'AverageTemperatureUncertainty', 'Country'], dtype='object')\n"
     ]
    }
   ],
   "source": [
    "data = pd.read_csv(\"data/GlobalLandTemperaturesByCountry.csv\")\n",
    "print(\"Size Before dropping NA values:\", data.shape)\n",
    "print(data.columns)"
   ]
  },
  {
   "cell_type": "markdown",
   "id": "1422d166-fdbc-4520-a938-a19e7e28d73a",
   "metadata": {},
   "source": [
    "## Finding and Dropping NA Values"
   ]
  },
  {
   "cell_type": "code",
   "execution_count": 3,
   "id": "e763a55b-a0b6-45de-96a6-bc0c18be93e6",
   "metadata": {},
   "outputs": [
    {
     "name": "stdout",
     "output_type": "stream",
     "text": [
      "dt                                   0\n",
      "AverageTemperature               32651\n",
      "AverageTemperatureUncertainty    31912\n",
      "Country                              0\n",
      "dtype: int64\n",
      "Size after dropping NA values: (544811, 4)\n"
     ]
    }
   ],
   "source": [
    "print(data.isna().sum())\n",
    "data.dropna(axis = 0, inplace = True)\n",
    "copy = data.copy()\n",
    "print(\"Size after dropping NA values:\", data.shape)"
   ]
  },
  {
   "cell_type": "markdown",
   "id": "e5c1b312-fc9e-43e8-8b2a-888e78eed011",
   "metadata": {},
   "source": [
    "## Formatting dates\n",
    "rename columns and group data by year"
   ]
  },
  {
   "cell_type": "code",
   "execution_count": 4,
   "id": "cc011df0-c0d2-4529-b217-29286dfd6716",
   "metadata": {},
   "outputs": [
    {
     "data": {
      "text/html": [
       "<div>\n",
       "<style scoped>\n",
       "    .dataframe tbody tr th:only-of-type {\n",
       "        vertical-align: middle;\n",
       "    }\n",
       "\n",
       "    .dataframe tbody tr th {\n",
       "        vertical-align: top;\n",
       "    }\n",
       "\n",
       "    .dataframe thead th {\n",
       "        text-align: right;\n",
       "    }\n",
       "</style>\n",
       "<table border=\"1\" class=\"dataframe\">\n",
       "  <thead>\n",
       "    <tr style=\"text-align: right;\">\n",
       "      <th></th>\n",
       "      <th>Average Temperature</th>\n",
       "      <th>Average Temperature Uncertainty</th>\n",
       "      <th>Country</th>\n",
       "      <th>Date</th>\n",
       "      <th>Day</th>\n",
       "      <th>Month</th>\n",
       "      <th>Year</th>\n",
       "    </tr>\n",
       "  </thead>\n",
       "  <tbody>\n",
       "    <tr>\n",
       "      <th>0</th>\n",
       "      <td>4.384</td>\n",
       "      <td>2.294</td>\n",
       "      <td>Åland</td>\n",
       "      <td>1743-11-01</td>\n",
       "      <td>1</td>\n",
       "      <td>11</td>\n",
       "      <td>1743</td>\n",
       "    </tr>\n",
       "    <tr>\n",
       "      <th>5</th>\n",
       "      <td>1.530</td>\n",
       "      <td>4.680</td>\n",
       "      <td>Åland</td>\n",
       "      <td>1744-04-01</td>\n",
       "      <td>1</td>\n",
       "      <td>4</td>\n",
       "      <td>1744</td>\n",
       "    </tr>\n",
       "    <tr>\n",
       "      <th>6</th>\n",
       "      <td>6.702</td>\n",
       "      <td>1.789</td>\n",
       "      <td>Åland</td>\n",
       "      <td>1744-05-01</td>\n",
       "      <td>1</td>\n",
       "      <td>5</td>\n",
       "      <td>1744</td>\n",
       "    </tr>\n",
       "    <tr>\n",
       "      <th>7</th>\n",
       "      <td>11.609</td>\n",
       "      <td>1.577</td>\n",
       "      <td>Åland</td>\n",
       "      <td>1744-06-01</td>\n",
       "      <td>1</td>\n",
       "      <td>6</td>\n",
       "      <td>1744</td>\n",
       "    </tr>\n",
       "    <tr>\n",
       "      <th>8</th>\n",
       "      <td>15.342</td>\n",
       "      <td>1.410</td>\n",
       "      <td>Åland</td>\n",
       "      <td>1744-07-01</td>\n",
       "      <td>1</td>\n",
       "      <td>7</td>\n",
       "      <td>1744</td>\n",
       "    </tr>\n",
       "  </tbody>\n",
       "</table>\n",
       "</div>"
      ],
      "text/plain": [
       "   Average Temperature  Average Temperature Uncertainty Country       Date  \\\n",
       "0                4.384                            2.294   Åland 1743-11-01   \n",
       "5                1.530                            4.680   Åland 1744-04-01   \n",
       "6                6.702                            1.789   Åland 1744-05-01   \n",
       "7               11.609                            1.577   Åland 1744-06-01   \n",
       "8               15.342                            1.410   Åland 1744-07-01   \n",
       "\n",
       "   Day  Month  Year  \n",
       "0    1     11  1743  \n",
       "5    1      4  1744  \n",
       "6    1      5  1744  \n",
       "7    1      6  1744  \n",
       "8    1      7  1744  "
      ]
     },
     "execution_count": 4,
     "metadata": {},
     "output_type": "execute_result"
    }
   ],
   "source": [
    "# Updating data\n",
    "data['Date'] = pd.to_datetime(data.dt)\n",
    "data['Day'] = data['Date'].dt.day\n",
    "data['Month'] = data['Date'].dt.month\n",
    "data['Year'] = data['Date'].dt.year\n",
    "data.drop(columns = ['dt'], axis = 1, inplace = True) \n",
    "\n",
    "# Updating  columns names\n",
    "data.columns = [\n",
    "    'Average Temperature', 'Average Temperature Uncertainty',\n",
    "    'Country', \n",
    "    'Date', 'Day', 'Month','Year'\n",
    "]\n",
    "\n",
    "data.head()"
   ]
  },
  {
   "cell_type": "code",
   "execution_count": 5,
   "id": "06cc2a6b-3fb3-4baa-8e01-68b8d7669714",
   "metadata": {},
   "outputs": [
    {
     "data": {
      "text/html": [
       "<div>\n",
       "<style scoped>\n",
       "    .dataframe tbody tr th:only-of-type {\n",
       "        vertical-align: middle;\n",
       "    }\n",
       "\n",
       "    .dataframe tbody tr th {\n",
       "        vertical-align: top;\n",
       "    }\n",
       "\n",
       "    .dataframe thead th {\n",
       "        text-align: right;\n",
       "    }\n",
       "</style>\n",
       "<table border=\"1\" class=\"dataframe\">\n",
       "  <thead>\n",
       "    <tr style=\"text-align: right;\">\n",
       "      <th></th>\n",
       "      <th>count</th>\n",
       "      <th>mean</th>\n",
       "      <th>std</th>\n",
       "      <th>min</th>\n",
       "      <th>25%</th>\n",
       "      <th>50%</th>\n",
       "      <th>75%</th>\n",
       "      <th>max</th>\n",
       "    </tr>\n",
       "  </thead>\n",
       "  <tbody>\n",
       "    <tr>\n",
       "      <th>Average Temperature</th>\n",
       "      <td>45915.0</td>\n",
       "      <td>17.177337</td>\n",
       "      <td>9.403671</td>\n",
       "      <td>-22.616000</td>\n",
       "      <td>9.395083</td>\n",
       "      <td>20.513083</td>\n",
       "      <td>25.707708</td>\n",
       "      <td>30.744750</td>\n",
       "    </tr>\n",
       "    <tr>\n",
       "      <th>Average Temperature Uncertainty</th>\n",
       "      <td>45915.0</td>\n",
       "      <td>1.026471</td>\n",
       "      <td>1.067285</td>\n",
       "      <td>0.115083</td>\n",
       "      <td>0.346583</td>\n",
       "      <td>0.594583</td>\n",
       "      <td>1.222792</td>\n",
       "      <td>7.281667</td>\n",
       "    </tr>\n",
       "  </tbody>\n",
       "</table>\n",
       "</div>"
      ],
      "text/plain": [
       "                                   count       mean       std        min  \\\n",
       "Average Temperature              45915.0  17.177337  9.403671 -22.616000   \n",
       "Average Temperature Uncertainty  45915.0   1.026471  1.067285   0.115083   \n",
       "\n",
       "                                      25%        50%        75%        max  \n",
       "Average Temperature              9.395083  20.513083  25.707708  30.744750  \n",
       "Average Temperature Uncertainty  0.346583   0.594583   1.222792   7.281667  "
      ]
     },
     "execution_count": 5,
     "metadata": {},
     "output_type": "execute_result"
    }
   ],
   "source": [
    "# Group by year and calculate yearly uncertainty\n",
    "def aggregate_by_year(df):\n",
    "    grouped = df.groupby('Year').agg(\n",
    "        Average_Temperature=('Average Temperature', 'mean'),\n",
    "        Monthly_Data_Count=('Average Temperature', 'count'),\n",
    "        Average_Uncertainty=('Average Temperature Uncertainty', lambda x: (x**2).sum()**0.5 / len(x))\n",
    "    )\n",
    "    return grouped\n",
    "\n",
    "# Apply the aggregate function\n",
    "earth_data = aggregate_by_year(data)\n",
    "if earth_data[earth_data['Monthly_Data_Count']!=12].shape[0]!=0:\n",
    "    earth_data[earth_data['Monthly_Data_Count']==12]\n",
    "\n",
    "# Drop column 'month_data_count'\n",
    "earth_data.drop('Monthly_Data_Count', axis=1, inplace=True)\n",
    "\n",
    "# Grouping data\n",
    "earth_data = data.groupby(by = ['Year', 'Country'])[[\n",
    "    'Average Temperature',\n",
    "    'Average Temperature Uncertainty',\n",
    "    ]].mean().reset_index()\n",
    "earth_data.head()\n",
    "earth_data[['Average Temperature','Average Temperature Uncertainty']].describe().T"
   ]
  },
  {
   "cell_type": "markdown",
   "id": "b2e2f885-1fb3-47a2-9c97-c988f1bc75e5",
   "metadata": {},
   "source": [
    "## Visualize temperature changes through maps and animations"
   ]
  },
  {
   "cell_type": "code",
   "execution_count": 6,
   "id": "b48a9047-fec0-41df-b1a2-3f6061e92a42",
   "metadata": {},
   "outputs": [
    {
     "data": {
      "text/html": [
       "<img src=\"choropleth_map.png\" width=\"900\">"
      ],
      "text/plain": [
       "<IPython.core.display.HTML object>"
      ]
     },
     "metadata": {},
     "output_type": "display_data"
    },
    {
     "data": {
      "text/html": [
       "<a href=\"choropleth_map.html\" target=\"_blank\">View Interactive Choropleth Map</a>"
      ],
      "text/plain": [
       "<IPython.core.display.HTML object>"
      ]
     },
     "metadata": {},
     "output_type": "display_data"
    }
   ],
   "source": [
    "def country_to_iso3(country_name):\n",
    "    try:\n",
    "        return pycountry.countries.lookup(country_name).alpha_3\n",
    "    except LookupError:\n",
    "        return None  # Handle missing cases\n",
    "\n",
    "# Display the yearly average temperature by decades.\n",
    "earth_data = earth_data[earth_data['Year'] % 10 == 0]\n",
    "earth_data.reset_index(drop=True, inplace=True)\n",
    "\n",
    "earth_data['Country_ISO3'] = earth_data['Country'].apply(country_to_iso3)\n",
    "\n",
    "# Creates a choropleth figure object\n",
    "fig = px.choropleth(\n",
    "    earth_data,\n",
    "    locations='Country_ISO3',              # 'Country' Column in the data contains the location identifiers.\n",
    "    locationmode='ISO-3',     # Indicates full country names (e.g., \"United States,\" \"Belgium\"). Other options are ISO codes or FIPS codes.\n",
    "    color='Average Temperature',      # 'Average Temperature' column to be used for coloring the map/\n",
    "    hover_name='Country',             # Info shows when hovering over.\n",
    "    animation_frame='Year',           # Adds an animation slider based on the 'Year' column (the unit is ten years).\n",
    "    title='Average Land Temperature in Countries',\n",
    "    labels={'Average Temperature': 'Avg Temp (°C)'}\n",
    ")\n",
    "\n",
    "# Adjust the layout\n",
    "fig.update_layout(\n",
    "    width=1000,\n",
    "    height=800,\n",
    "    coloraxis=dict(\n",
    "        colorscale='rdbu_r',\n",
    "        colorbar=dict(\n",
    "            title=\"Avg Temp (°C)\",\n",
    "            tickvals=[-10, 0, -5, 5, 10, 15, 20, 25, 30, 35, 40],\n",
    "            ticktext=['-10', '-5', '0', '5', '10', '15', '20', '25','30', '35', '40']\n",
    "        )\n",
    "    ),\n",
    "    title_font_size=28,\n",
    "    title_x=0.5,\n",
    "    geo=dict(\n",
    "        showcoastlines=True,\n",
    "        coastlinecolor=\"Black\",\n",
    "        projection_type=\"natural earth\", # \"orthographic\"\n",
    "        landcolor=\"white\",\n",
    "        subunitcolor=\"gray\"\n",
    "    ),\n",
    ")\n",
    "\n",
    "pio.write_image(fig, \"images/choropleth_map.png\", scale=2)  # Requires kaleido\n",
    "display(HTML('<img src=\"images/choropleth_map.png\" width=\"900\">'))\n",
    "\n",
    "fig.write_html(\"charts/choropleth_map.html\")\n",
    "display(HTML('<a href=\"charts/choropleth_map.html\" target=\"_blank\">View Interactive Choropleth Map</a>'))"
   ]
  },
  {
   "cell_type": "code",
   "execution_count": 7,
   "id": "03d20a2d-2fc3-44e4-9fb1-5298fa64fd47",
   "metadata": {},
   "outputs": [
    {
     "data": {
      "text/html": [
       "<img src=\"temp_std_dev_map.png\" width=\"900\">"
      ],
      "text/plain": [
       "<IPython.core.display.HTML object>"
      ]
     },
     "metadata": {},
     "output_type": "display_data"
    },
    {
     "data": {
      "text/html": [
       "<a href=\"temp_std_dev_map.html\" target=\"_blank\">View Interactive Std Temp Map</a>"
      ],
      "text/plain": [
       "<IPython.core.display.HTML object>"
      ]
     },
     "metadata": {},
     "output_type": "display_data"
    }
   ],
   "source": [
    "def country_to_iso3(country_name):\n",
    "    try:\n",
    "        return pycountry.countries.lookup(country_name).alpha_3\n",
    "    except LookupError:\n",
    "        return None\n",
    "\n",
    "# Calculate the temperature standard deviation by country for years after 1975.\n",
    "earth_data_std = data[data['Year'] >= 1975].groupby(by=['Country'])[['Average Temperature']].std().reset_index()\n",
    "earth_data_std = earth_data_std.rename(columns={'Average Temperature': 'Temperature STD'})\n",
    "earth_data_std = earth_data_std.dropna(subset=['Temperature STD'])\n",
    "\n",
    "earth_data_std['ISO3'] = earth_data_std['Country'].apply(country_to_iso3)\n",
    "\n",
    "# Display the global temperature standard deviation by country\n",
    "fig = px.scatter_geo(\n",
    "    earth_data_std,\n",
    "    locations=\"ISO3\",\n",
    "    locationmode=\"ISO-3\",\n",
    "    color=\"Temperature STD\",\n",
    "    size=earth_data_std[\"Temperature STD\"].abs(),\n",
    "    hover_name=\"Country\",\n",
    "    projection=\"natural earth\",\n",
    "    title=\"Global Temperatures Standard Deviation by Country\",\n",
    "    size_max=40\n",
    ")\n",
    "\n",
    "fig.update_layout(\n",
    "    coloraxis_colorbar=dict(\n",
    "        title=\"Std Temp (°C)\"\n",
    "    ),\n",
    "    legend_title=dict(\n",
    "        text=\"Standard Deviation Temperature Scale\"\n",
    "    ),\n",
    "    width=1000,\n",
    "    height=800\n",
    ")\n",
    "\n",
    "pio.write_image(fig, \"images/temp_std_dev_map.png\", scale=2)  # Requires kaleido\n",
    "display(HTML('<img src=\"images/temp_std_dev_map.png\" width=\"900\">'))\n",
    "\n",
    "fig.write_html(\"charts/temp_std_dev_map.html\")\n",
    "display(HTML('<a href=\"charts/temp_std_dev_map.html\" target=\"_blank\">View Interactive Std Temp Map</a>'))"
   ]
  }
 ],
 "metadata": {
  "kernelspec": {
   "display_name": "Python [conda env:base] *",
   "language": "python",
   "name": "conda-base-py"
  },
  "language_info": {
   "codemirror_mode": {
    "name": "ipython",
    "version": 3
   },
   "file_extension": ".py",
   "mimetype": "text/x-python",
   "name": "python",
   "nbconvert_exporter": "python",
   "pygments_lexer": "ipython3",
   "version": "3.13.5"
  }
 },
 "nbformat": 4,
 "nbformat_minor": 5
}
