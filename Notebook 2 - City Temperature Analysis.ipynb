{
 "cells": [
  {
   "cell_type": "code",
   "execution_count": 1,
   "id": "ea8f5462-5e4b-4b9d-a949-6f5e846f2f12",
   "metadata": {},
   "outputs": [],
   "source": [
    "import plotly.express as px\n",
    "import pandas as pd\n",
    "import plotly.graph_objects as go\n",
    "import plotly.io as pio\n",
    "from IPython.display import display, HTML"
   ]
  },
  {
   "cell_type": "code",
   "execution_count": 2,
   "id": "b677be93-0ca7-40cb-8b12-6745dfeb2037",
   "metadata": {},
   "outputs": [
    {
     "name": "stdout",
     "output_type": "stream",
     "text": [
      "dt                                   0\n",
      "AverageTemperature               11002\n",
      "AverageTemperatureUncertainty    11002\n",
      "City                                 0\n",
      "Country                              0\n",
      "Latitude                             0\n",
      "Longitude                            0\n",
      "dtype: int64\n"
     ]
    }
   ],
   "source": [
    "df = pd.read_csv('data/GlobalLandTemperaturesByMajorCity.csv')\n",
    "print(df.isna().sum())"
   ]
  },
  {
   "cell_type": "code",
   "execution_count": 3,
   "id": "21cf8d25-dafc-48ff-b121-f89c11e20e50",
   "metadata": {},
   "outputs": [
    {
     "data": {
      "text/html": [
       "<div>\n",
       "<style scoped>\n",
       "    .dataframe tbody tr th:only-of-type {\n",
       "        vertical-align: middle;\n",
       "    }\n",
       "\n",
       "    .dataframe tbody tr th {\n",
       "        vertical-align: top;\n",
       "    }\n",
       "\n",
       "    .dataframe thead th {\n",
       "        text-align: right;\n",
       "    }\n",
       "</style>\n",
       "<table border=\"1\" class=\"dataframe\">\n",
       "  <thead>\n",
       "    <tr style=\"text-align: right;\">\n",
       "      <th></th>\n",
       "      <th>dt</th>\n",
       "      <th>AverageTemperature</th>\n",
       "      <th>AverageTemperatureUncertainty</th>\n",
       "      <th>City</th>\n",
       "      <th>Country</th>\n",
       "      <th>Latitude</th>\n",
       "      <th>Longitude</th>\n",
       "      <th>Date</th>\n",
       "    </tr>\n",
       "  </thead>\n",
       "  <tbody>\n",
       "    <tr>\n",
       "      <th>0</th>\n",
       "      <td>1849-01-01</td>\n",
       "      <td>26.704</td>\n",
       "      <td>1.435</td>\n",
       "      <td>Abidjan</td>\n",
       "      <td>Côte D'Ivoire</td>\n",
       "      <td>5.63N</td>\n",
       "      <td>3.23W</td>\n",
       "      <td>1849-01-01</td>\n",
       "    </tr>\n",
       "    <tr>\n",
       "      <th>1</th>\n",
       "      <td>1849-02-01</td>\n",
       "      <td>27.434</td>\n",
       "      <td>1.362</td>\n",
       "      <td>Abidjan</td>\n",
       "      <td>Côte D'Ivoire</td>\n",
       "      <td>5.63N</td>\n",
       "      <td>3.23W</td>\n",
       "      <td>1849-02-01</td>\n",
       "    </tr>\n",
       "    <tr>\n",
       "      <th>2</th>\n",
       "      <td>1849-03-01</td>\n",
       "      <td>28.101</td>\n",
       "      <td>1.612</td>\n",
       "      <td>Abidjan</td>\n",
       "      <td>Côte D'Ivoire</td>\n",
       "      <td>5.63N</td>\n",
       "      <td>3.23W</td>\n",
       "      <td>1849-03-01</td>\n",
       "    </tr>\n",
       "    <tr>\n",
       "      <th>3</th>\n",
       "      <td>1849-04-01</td>\n",
       "      <td>26.140</td>\n",
       "      <td>1.387</td>\n",
       "      <td>Abidjan</td>\n",
       "      <td>Côte D'Ivoire</td>\n",
       "      <td>5.63N</td>\n",
       "      <td>3.23W</td>\n",
       "      <td>1849-04-01</td>\n",
       "    </tr>\n",
       "    <tr>\n",
       "      <th>4</th>\n",
       "      <td>1849-05-01</td>\n",
       "      <td>25.427</td>\n",
       "      <td>1.200</td>\n",
       "      <td>Abidjan</td>\n",
       "      <td>Côte D'Ivoire</td>\n",
       "      <td>5.63N</td>\n",
       "      <td>3.23W</td>\n",
       "      <td>1849-05-01</td>\n",
       "    </tr>\n",
       "  </tbody>\n",
       "</table>\n",
       "</div>"
      ],
      "text/plain": [
       "           dt  AverageTemperature  AverageTemperatureUncertainty     City  \\\n",
       "0  1849-01-01              26.704                          1.435  Abidjan   \n",
       "1  1849-02-01              27.434                          1.362  Abidjan   \n",
       "2  1849-03-01              28.101                          1.612  Abidjan   \n",
       "3  1849-04-01              26.140                          1.387  Abidjan   \n",
       "4  1849-05-01              25.427                          1.200  Abidjan   \n",
       "\n",
       "         Country Latitude Longitude       Date  \n",
       "0  Côte D'Ivoire    5.63N     3.23W 1849-01-01  \n",
       "1  Côte D'Ivoire    5.63N     3.23W 1849-02-01  \n",
       "2  Côte D'Ivoire    5.63N     3.23W 1849-03-01  \n",
       "3  Côte D'Ivoire    5.63N     3.23W 1849-04-01  \n",
       "4  Côte D'Ivoire    5.63N     3.23W 1849-05-01  "
      ]
     },
     "execution_count": 3,
     "metadata": {},
     "output_type": "execute_result"
    }
   ],
   "source": [
    "df.dropna(axis = 0, inplace=True)\n",
    "df['Date'] = pd.to_datetime(df.dt)\n",
    "df.head()"
   ]
  },
  {
   "cell_type": "code",
   "execution_count": 4,
   "id": "eb90b391-ee54-4efc-8189-6b10f09b215e",
   "metadata": {},
   "outputs": [
    {
     "data": {
      "text/html": [
       "<img src=\"sunburst_chart.png\" width=\"900\">"
      ],
      "text/plain": [
       "<IPython.core.display.HTML object>"
      ]
     },
     "metadata": {},
     "output_type": "display_data"
    },
    {
     "data": {
      "text/html": [
       "<a href=\"sunburst_chart.html\" target=\"_blank\">View Interactive Sunburst Chart</a>"
      ],
      "text/plain": [
       "<IPython.core.display.HTML object>"
      ]
     },
     "metadata": {},
     "output_type": "display_data"
    }
   ],
   "source": [
    "aggregated_df = df.groupby(['Country', 'City'], as_index=False).agg(\n",
    "    {'AverageTemperature': 'mean', 'AverageTemperatureUncertainty': 'mean'}\n",
    ")\n",
    "\n",
    "sunburst_chart = px.sunburst(aggregated_df, \n",
    "                             path=['Country', 'City'],  # Define the hierarchy\n",
    "                             values='AverageTemperature',  # Use the average temperature for sizing\n",
    "                             title=\"Average Temperature Breakdown by Country and City\",\n",
    "                             color='AverageTemperature',  # Color by average temperature\n",
    "                             color_continuous_scale='RdBu',  # Choose a color scale\n",
    "                             hover_data={'AverageTemperature': True, 'AverageTemperatureUncertainty': True},  # Additional data for hover\n",
    "                             maxdepth=3)  # Limit the depth of the chart for clarity\n",
    "sunburst_chart.update_layout(\n",
    "    margin=dict(t=50, l=0, r=0, b=0),  # Adjust margins\n",
    "    sunburstcolorway=[\"#636EFA\", \"#EF553B\", \"#00CC96\", \"#AB63FA\", \"#FFA15A\"],  # Custom color palette\n",
    "    extendsunburstcolors=True,  # Extend colors across branches\n",
    "    coloraxis_colorbar=dict(title=\"Average Temperature (°C)\")  # Colorbar for reference\n",
    ")\n",
    "\n",
    "sunburst_chart.update_traces(\n",
    "    hovertemplate=\"<b>Country:</b> %{parent}<br>\" +\n",
    "                  \"<b>City:</b> %{label}<br>\" +\n",
    "                  \"<b>Avg Temp:</b> %{value:.2f}°C<br>\",\n",
    "    insidetextorientation='radial',  # Adjust text orientation inside the chart\n",
    ")\n",
    "\n",
    "pio.write_image(sunburst_chart, \"images/sunburst_chart.png\", scale=2)  # Requires kaleido\n",
    "display(HTML('<img src=\"images/sunburst_chart.png\" width=\"900\">'))\n",
    "\n",
    "sunburst_chart.write_html(\"charts/sunburst_chart.html\")\n",
    "display(HTML('<a href=\"charts/sunburst_chart.html\" target=\"_blank\">View Interactive Sunburst Chart</a>'))"
   ]
  }
 ],
 "metadata": {
  "kernelspec": {
   "display_name": "Python [conda env:base] *",
   "language": "python",
   "name": "conda-base-py"
  },
  "language_info": {
   "codemirror_mode": {
    "name": "ipython",
    "version": 3
   },
   "file_extension": ".py",
   "mimetype": "text/x-python",
   "name": "python",
   "nbconvert_exporter": "python",
   "pygments_lexer": "ipython3",
   "version": "3.13.5"
  }
 },
 "nbformat": 4,
 "nbformat_minor": 5
}
