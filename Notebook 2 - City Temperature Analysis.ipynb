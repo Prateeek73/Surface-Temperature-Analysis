{
 "cells": [
  {
   "cell_type": "code",
   "execution_count": null,
   "id": "ea8f5462-5e4b-4b9d-a949-6f5e846f2f12",
   "metadata": {},
   "outputs": [],
   "source": [
    "import plotly.express as px\n",
    "import pandas as pd\n",
    "import plotly.graph_objects as go\n",
    "import plotly.io as pio"
   ]
  },
  {
   "cell_type": "code",
   "execution_count": null,
   "id": "b677be93-0ca7-40cb-8b12-6745dfeb2037",
   "metadata": {},
   "outputs": [],
   "source": [
    "df = pd.read_csv('data/GlobalLandTemperaturesByMajorCity.csv')\n",
    "print(df.isna().sum())"
   ]
  },
  {
   "cell_type": "code",
   "execution_count": null,
   "id": "21cf8d25-dafc-48ff-b121-f89c11e20e50",
   "metadata": {},
   "outputs": [],
   "source": [
    "df.dropna(axis = 0, inplace=True)\n",
    "df['Date'] = pd.to_datetime(df.dt)\n",
    "df.head()"
   ]
  },
  {
   "cell_type": "code",
   "execution_count": null,
   "id": "eb90b391-ee54-4efc-8189-6b10f09b215e",
   "metadata": {},
   "outputs": [],
   "source": [
    "aggregated_df = df.groupby(['Country', 'City'], as_index=False).agg(\n",
    "    {'AverageTemperature': 'mean', 'AverageTemperatureUncertainty': 'mean'}\n",
    ")\n",
    "\n",
    "sunburst_chart = px.sunburst(aggregated_df, \n",
    "                             path=['Country', 'City'],  # Define the hierarchy\n",
    "                             values='AverageTemperature',  # Use the average temperature for sizing\n",
    "                             title=\"Average Temperature Breakdown by Country and City\",\n",
    "                             color='AverageTemperature',  # Color by average temperature\n",
    "                             color_continuous_scale='RdBu',  # Choose a color scale\n",
    "                             hover_data={'AverageTemperature': True, 'AverageTemperatureUncertainty': True},  # Additional data for hover\n",
    "                             maxdepth=3)  # Limit the depth of the chart for clarity\n",
    "sunburst_chart.update_layout(\n",
    "    margin=dict(t=50, l=0, r=0, b=0),  # Adjust margins\n",
    "    sunburstcolorway=[\"#636EFA\", \"#EF553B\", \"#00CC96\", \"#AB63FA\", \"#FFA15A\"],  # Custom color palette\n",
    "    extendsunburstcolors=True,  # Extend colors across branches\n",
    "    coloraxis_colorbar=dict(title=\"Average Temperature (°C)\")  # Colorbar for reference\n",
    ")\n",
    "\n",
    "sunburst_chart.update_traces(\n",
    "    hovertemplate=\"<b>Country:</b> %{parent}<br>\" +\n",
    "                  \"<b>City:</b> %{label}<br>\" +\n",
    "                  \"<b>Avg Temp:</b> %{value:.2f}°C<br>\",\n",
    "    insidetextorientation='radial',  # Adjust text orientation inside the chart\n",
    ")\n",
    "\n",
    "pio.write_image(sunburst_chart, \"images/sunburst_chart.png\", scale=2)  # Requires kaleido\n",
    "sunburst_chart.write_html(\"charts/sunburst_chart.html\")"
   ]
  },
  {
   "cell_type": "markdown",
   "id": "4a94bbe8-3cca-4259-b87f-1a46dcc1024b",
   "metadata": {},
   "source": [
    "![Sunburst Chart](images/sunburst_chart.png)  \n",
    "[View Interactive Sunburst](charts/sunburst_chart.html)"
   ]
  }
 ],
 "metadata": {
  "kernelspec": {
   "display_name": "Python [conda env:base] *",
   "language": "python",
   "name": "conda-base-py"
  },
  "language_info": {
   "codemirror_mode": {
    "name": "ipython",
    "version": 3
   },
   "file_extension": ".py",
   "mimetype": "text/x-python",
   "name": "python",
   "nbconvert_exporter": "python",
   "pygments_lexer": "ipython3",
   "version": "3.13.5"
  }
 },
 "nbformat": 4,
 "nbformat_minor": 5
}
